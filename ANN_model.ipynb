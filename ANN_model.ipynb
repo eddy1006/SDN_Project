{
 "cells": [
  {
   "cell_type": "code",
   "execution_count": 1,
   "metadata": {},
   "outputs": [],
   "source": [
    "import pandas as pd\n",
    "\n",
    "import numpy as np\n",
    "\n",
    "df = pd.read_csv('ML-EdgeIIoT-dataset.csv', low_memory=False)"
   ]
  },
  {
   "cell_type": "code",
   "execution_count": 2,
   "metadata": {},
   "outputs": [
    {
     "name": "stdout",
     "output_type": "stream",
     "text": [
      "Normal                   24301\n",
      "DDoS_UDP                 14498\n",
      "DDoS_ICMP                14090\n",
      "Ransomware               10925\n",
      "DDoS_HTTP                10561\n",
      "SQL_injection            10311\n",
      "Uploading                10269\n",
      "DDoS_TCP                 10247\n",
      "Backdoor                 10195\n",
      "Vulnerability_scanner    10076\n",
      "Port_Scanning            10071\n",
      "XSS                      10052\n",
      "Password                  9989\n",
      "MITM                      1214\n",
      "Fingerprinting            1001\n",
      "Name: Attack_type, dtype: int64\n"
     ]
    }
   ],
   "source": [
    "df.head(5)\n",
    "\n",
    "print(df['Attack_type'].value_counts())"
   ]
  },
  {
   "cell_type": "code",
   "execution_count": 3,
   "metadata": {},
   "outputs": [
    {
     "name": "stdout",
     "output_type": "stream",
     "text": [
      "Normal                   24101\n",
      "DDoS_UDP                 14498\n",
      "DDoS_ICMP                13096\n",
      "DDoS_HTTP                10495\n",
      "SQL_injection            10282\n",
      "DDoS_TCP                 10247\n",
      "Uploading                10214\n",
      "Vulnerability_scanner    10062\n",
      "Password                  9972\n",
      "Backdoor                  9865\n",
      "Ransomware                9689\n",
      "XSS                       9543\n",
      "Port_Scanning             8921\n",
      "Fingerprinting             853\n",
      "MITM                       358\n",
      "Name: Attack_type, dtype: int64\n"
     ]
    }
   ],
   "source": [
    "from sklearn.utils import shuffle\n",
    "\n",
    "drop_columns = [\"frame.time\", \"ip.src_host\", \"ip.dst_host\", \"arp.src.proto_ipv4\",\"arp.dst.proto_ipv4\", \n",
    "\n",
    "         \"http.file_data\",\"http.request.full_uri\",\"icmp.transmit_timestamp\",\n",
    "\n",
    "         \"http.request.uri.query\", \"tcp.options\",\"tcp.payload\",\"tcp.srcport\",\n",
    "\n",
    "         \"tcp.dstport\", \"udp.port\", \"mqtt.msg\"]\n",
    "\n",
    "df.drop(drop_columns, axis=1, inplace=True)\n",
    "\n",
    "df.dropna(axis=0, how='any', inplace=True)\n",
    "\n",
    "df.drop_duplicates(subset=None, keep=\"first\", inplace=True)\n",
    "\n",
    "df = shuffle(df)\n",
    "\n",
    "df.isna().sum()\n",
    "\n",
    "print(df['Attack_type'].value_counts())"
   ]
  },
  {
   "cell_type": "code",
   "execution_count": 4,
   "metadata": {},
   "outputs": [],
   "source": [
    "import numpy as np\n",
    "\n",
    "from sklearn.model_selection import train_test_split\n",
    "\n",
    "from sklearn.preprocessing import StandardScaler\n",
    "\n",
    "from sklearn import preprocessing\n",
    "\n",
    "def encode_text_dummy(df, name):\n",
    "\n",
    "    dummies = pd.get_dummies(df[name])\n",
    "\n",
    "    for x in dummies.columns:\n",
    "\n",
    "        dummy_name = f\"{name}-{x}\"\n",
    "\n",
    "        df[dummy_name] = dummies[x]\n",
    "\n",
    "    df.drop(name, axis=1, inplace=True)\n",
    "\n",
    "encode_text_dummy(df,'http.request.method')\n",
    "\n",
    "encode_text_dummy(df,'http.referer')\n",
    "\n",
    "encode_text_dummy(df,\"http.request.version\")\n",
    "\n",
    "encode_text_dummy(df,\"dns.qry.name.len\")\n",
    "\n",
    "encode_text_dummy(df,\"mqtt.conack.flags\")\n",
    "\n",
    "encode_text_dummy(df,\"mqtt.protoname\")\n",
    "\n",
    "encode_text_dummy(df,\"mqtt.topic\")"
   ]
  },
  {
   "cell_type": "code",
   "execution_count": 5,
   "metadata": {},
   "outputs": [
    {
     "data": {
      "text/html": [
       "<div>\n",
       "<style scoped>\n",
       "    .dataframe tbody tr th:only-of-type {\n",
       "        vertical-align: middle;\n",
       "    }\n",
       "\n",
       "    .dataframe tbody tr th {\n",
       "        vertical-align: top;\n",
       "    }\n",
       "\n",
       "    .dataframe thead th {\n",
       "        text-align: right;\n",
       "    }\n",
       "</style>\n",
       "<table border=\"1\" class=\"dataframe\">\n",
       "  <thead>\n",
       "    <tr style=\"text-align: right;\">\n",
       "      <th></th>\n",
       "      <th>arp.opcode</th>\n",
       "      <th>arp.hw.size</th>\n",
       "      <th>icmp.checksum</th>\n",
       "      <th>icmp.seq_le</th>\n",
       "      <th>icmp.unused</th>\n",
       "      <th>http.content_length</th>\n",
       "      <th>http.response</th>\n",
       "      <th>http.tls_port</th>\n",
       "      <th>tcp.ack</th>\n",
       "      <th>tcp.ack_raw</th>\n",
       "      <th>...</th>\n",
       "      <th>dns.qry.name.len-_googlecast._tcp.local</th>\n",
       "      <th>mqtt.conack.flags-0</th>\n",
       "      <th>mqtt.conack.flags-0.0</th>\n",
       "      <th>mqtt.conack.flags-0x00000000</th>\n",
       "      <th>mqtt.protoname-0</th>\n",
       "      <th>mqtt.protoname-0.0</th>\n",
       "      <th>mqtt.protoname-MQTT</th>\n",
       "      <th>mqtt.topic-0</th>\n",
       "      <th>mqtt.topic-0.0</th>\n",
       "      <th>mqtt.topic-Temperature_and_Humidity</th>\n",
       "    </tr>\n",
       "  </thead>\n",
       "  <tbody>\n",
       "    <tr>\n",
       "      <th>130973</th>\n",
       "      <td>0.0</td>\n",
       "      <td>0.0</td>\n",
       "      <td>0.0</td>\n",
       "      <td>0.0</td>\n",
       "      <td>0.0</td>\n",
       "      <td>0.0</td>\n",
       "      <td>0.0</td>\n",
       "      <td>0.0</td>\n",
       "      <td>0.000000e+00</td>\n",
       "      <td>0.000000e+00</td>\n",
       "      <td>...</td>\n",
       "      <td>0</td>\n",
       "      <td>0</td>\n",
       "      <td>1</td>\n",
       "      <td>0</td>\n",
       "      <td>0</td>\n",
       "      <td>1</td>\n",
       "      <td>0</td>\n",
       "      <td>0</td>\n",
       "      <td>1</td>\n",
       "      <td>0</td>\n",
       "    </tr>\n",
       "    <tr>\n",
       "      <th>137804</th>\n",
       "      <td>0.0</td>\n",
       "      <td>0.0</td>\n",
       "      <td>0.0</td>\n",
       "      <td>0.0</td>\n",
       "      <td>0.0</td>\n",
       "      <td>0.0</td>\n",
       "      <td>0.0</td>\n",
       "      <td>0.0</td>\n",
       "      <td>0.000000e+00</td>\n",
       "      <td>0.000000e+00</td>\n",
       "      <td>...</td>\n",
       "      <td>0</td>\n",
       "      <td>0</td>\n",
       "      <td>1</td>\n",
       "      <td>0</td>\n",
       "      <td>0</td>\n",
       "      <td>1</td>\n",
       "      <td>0</td>\n",
       "      <td>0</td>\n",
       "      <td>1</td>\n",
       "      <td>0</td>\n",
       "    </tr>\n",
       "    <tr>\n",
       "      <th>136452</th>\n",
       "      <td>0.0</td>\n",
       "      <td>0.0</td>\n",
       "      <td>0.0</td>\n",
       "      <td>0.0</td>\n",
       "      <td>0.0</td>\n",
       "      <td>0.0</td>\n",
       "      <td>0.0</td>\n",
       "      <td>0.0</td>\n",
       "      <td>0.000000e+00</td>\n",
       "      <td>0.000000e+00</td>\n",
       "      <td>...</td>\n",
       "      <td>0</td>\n",
       "      <td>0</td>\n",
       "      <td>1</td>\n",
       "      <td>0</td>\n",
       "      <td>0</td>\n",
       "      <td>1</td>\n",
       "      <td>0</td>\n",
       "      <td>0</td>\n",
       "      <td>1</td>\n",
       "      <td>0</td>\n",
       "    </tr>\n",
       "    <tr>\n",
       "      <th>53702</th>\n",
       "      <td>0.0</td>\n",
       "      <td>0.0</td>\n",
       "      <td>0.0</td>\n",
       "      <td>0.0</td>\n",
       "      <td>0.0</td>\n",
       "      <td>0.0</td>\n",
       "      <td>0.0</td>\n",
       "      <td>0.0</td>\n",
       "      <td>9.378103e+08</td>\n",
       "      <td>9.378103e+08</td>\n",
       "      <td>...</td>\n",
       "      <td>0</td>\n",
       "      <td>0</td>\n",
       "      <td>1</td>\n",
       "      <td>0</td>\n",
       "      <td>0</td>\n",
       "      <td>1</td>\n",
       "      <td>0</td>\n",
       "      <td>0</td>\n",
       "      <td>1</td>\n",
       "      <td>0</td>\n",
       "    </tr>\n",
       "    <tr>\n",
       "      <th>5142</th>\n",
       "      <td>0.0</td>\n",
       "      <td>0.0</td>\n",
       "      <td>0.0</td>\n",
       "      <td>0.0</td>\n",
       "      <td>0.0</td>\n",
       "      <td>0.0</td>\n",
       "      <td>0.0</td>\n",
       "      <td>0.0</td>\n",
       "      <td>5.561770e+05</td>\n",
       "      <td>2.663220e+08</td>\n",
       "      <td>...</td>\n",
       "      <td>0</td>\n",
       "      <td>0</td>\n",
       "      <td>1</td>\n",
       "      <td>0</td>\n",
       "      <td>0</td>\n",
       "      <td>1</td>\n",
       "      <td>0</td>\n",
       "      <td>0</td>\n",
       "      <td>1</td>\n",
       "      <td>0</td>\n",
       "    </tr>\n",
       "    <tr>\n",
       "      <th>...</th>\n",
       "      <td>...</td>\n",
       "      <td>...</td>\n",
       "      <td>...</td>\n",
       "      <td>...</td>\n",
       "      <td>...</td>\n",
       "      <td>...</td>\n",
       "      <td>...</td>\n",
       "      <td>...</td>\n",
       "      <td>...</td>\n",
       "      <td>...</td>\n",
       "      <td>...</td>\n",
       "      <td>...</td>\n",
       "      <td>...</td>\n",
       "      <td>...</td>\n",
       "      <td>...</td>\n",
       "      <td>...</td>\n",
       "      <td>...</td>\n",
       "      <td>...</td>\n",
       "      <td>...</td>\n",
       "      <td>...</td>\n",
       "      <td>...</td>\n",
       "    </tr>\n",
       "    <tr>\n",
       "      <th>39092</th>\n",
       "      <td>0.0</td>\n",
       "      <td>0.0</td>\n",
       "      <td>0.0</td>\n",
       "      <td>0.0</td>\n",
       "      <td>0.0</td>\n",
       "      <td>0.0</td>\n",
       "      <td>0.0</td>\n",
       "      <td>0.0</td>\n",
       "      <td>0.000000e+00</td>\n",
       "      <td>0.000000e+00</td>\n",
       "      <td>...</td>\n",
       "      <td>0</td>\n",
       "      <td>0</td>\n",
       "      <td>1</td>\n",
       "      <td>0</td>\n",
       "      <td>0</td>\n",
       "      <td>1</td>\n",
       "      <td>0</td>\n",
       "      <td>0</td>\n",
       "      <td>1</td>\n",
       "      <td>0</td>\n",
       "    </tr>\n",
       "    <tr>\n",
       "      <th>49684</th>\n",
       "      <td>0.0</td>\n",
       "      <td>0.0</td>\n",
       "      <td>0.0</td>\n",
       "      <td>0.0</td>\n",
       "      <td>0.0</td>\n",
       "      <td>0.0</td>\n",
       "      <td>0.0</td>\n",
       "      <td>0.0</td>\n",
       "      <td>1.599960e+09</td>\n",
       "      <td>1.599960e+09</td>\n",
       "      <td>...</td>\n",
       "      <td>0</td>\n",
       "      <td>0</td>\n",
       "      <td>1</td>\n",
       "      <td>0</td>\n",
       "      <td>0</td>\n",
       "      <td>1</td>\n",
       "      <td>0</td>\n",
       "      <td>0</td>\n",
       "      <td>1</td>\n",
       "      <td>0</td>\n",
       "    </tr>\n",
       "    <tr>\n",
       "      <th>46076</th>\n",
       "      <td>0.0</td>\n",
       "      <td>0.0</td>\n",
       "      <td>0.0</td>\n",
       "      <td>0.0</td>\n",
       "      <td>0.0</td>\n",
       "      <td>0.0</td>\n",
       "      <td>0.0</td>\n",
       "      <td>0.0</td>\n",
       "      <td>1.210000e+02</td>\n",
       "      <td>9.884602e+08</td>\n",
       "      <td>...</td>\n",
       "      <td>0</td>\n",
       "      <td>0</td>\n",
       "      <td>1</td>\n",
       "      <td>0</td>\n",
       "      <td>0</td>\n",
       "      <td>1</td>\n",
       "      <td>0</td>\n",
       "      <td>0</td>\n",
       "      <td>1</td>\n",
       "      <td>0</td>\n",
       "    </tr>\n",
       "    <tr>\n",
       "      <th>139043</th>\n",
       "      <td>0.0</td>\n",
       "      <td>0.0</td>\n",
       "      <td>0.0</td>\n",
       "      <td>0.0</td>\n",
       "      <td>0.0</td>\n",
       "      <td>0.0</td>\n",
       "      <td>0.0</td>\n",
       "      <td>0.0</td>\n",
       "      <td>0.000000e+00</td>\n",
       "      <td>0.000000e+00</td>\n",
       "      <td>...</td>\n",
       "      <td>0</td>\n",
       "      <td>0</td>\n",
       "      <td>1</td>\n",
       "      <td>0</td>\n",
       "      <td>0</td>\n",
       "      <td>1</td>\n",
       "      <td>0</td>\n",
       "      <td>0</td>\n",
       "      <td>1</td>\n",
       "      <td>0</td>\n",
       "    </tr>\n",
       "    <tr>\n",
       "      <th>145576</th>\n",
       "      <td>0.0</td>\n",
       "      <td>0.0</td>\n",
       "      <td>33220.0</td>\n",
       "      <td>13359.0</td>\n",
       "      <td>0.0</td>\n",
       "      <td>0.0</td>\n",
       "      <td>0.0</td>\n",
       "      <td>0.0</td>\n",
       "      <td>0.000000e+00</td>\n",
       "      <td>0.000000e+00</td>\n",
       "      <td>...</td>\n",
       "      <td>0</td>\n",
       "      <td>0</td>\n",
       "      <td>1</td>\n",
       "      <td>0</td>\n",
       "      <td>0</td>\n",
       "      <td>1</td>\n",
       "      <td>0</td>\n",
       "      <td>0</td>\n",
       "      <td>1</td>\n",
       "      <td>0</td>\n",
       "    </tr>\n",
       "  </tbody>\n",
       "</table>\n",
       "<p>152196 rows × 76 columns</p>\n",
       "</div>"
      ],
      "text/plain": [
       "        arp.opcode  arp.hw.size  icmp.checksum  icmp.seq_le  icmp.unused  \\\n",
       "130973         0.0          0.0            0.0          0.0          0.0   \n",
       "137804         0.0          0.0            0.0          0.0          0.0   \n",
       "136452         0.0          0.0            0.0          0.0          0.0   \n",
       "53702          0.0          0.0            0.0          0.0          0.0   \n",
       "5142           0.0          0.0            0.0          0.0          0.0   \n",
       "...            ...          ...            ...          ...          ...   \n",
       "39092          0.0          0.0            0.0          0.0          0.0   \n",
       "49684          0.0          0.0            0.0          0.0          0.0   \n",
       "46076          0.0          0.0            0.0          0.0          0.0   \n",
       "139043         0.0          0.0            0.0          0.0          0.0   \n",
       "145576         0.0          0.0        33220.0      13359.0          0.0   \n",
       "\n",
       "        http.content_length  http.response  http.tls_port       tcp.ack  \\\n",
       "130973                  0.0            0.0            0.0  0.000000e+00   \n",
       "137804                  0.0            0.0            0.0  0.000000e+00   \n",
       "136452                  0.0            0.0            0.0  0.000000e+00   \n",
       "53702                   0.0            0.0            0.0  9.378103e+08   \n",
       "5142                    0.0            0.0            0.0  5.561770e+05   \n",
       "...                     ...            ...            ...           ...   \n",
       "39092                   0.0            0.0            0.0  0.000000e+00   \n",
       "49684                   0.0            0.0            0.0  1.599960e+09   \n",
       "46076                   0.0            0.0            0.0  1.210000e+02   \n",
       "139043                  0.0            0.0            0.0  0.000000e+00   \n",
       "145576                  0.0            0.0            0.0  0.000000e+00   \n",
       "\n",
       "         tcp.ack_raw  ...  dns.qry.name.len-_googlecast._tcp.local  \\\n",
       "130973  0.000000e+00  ...                                        0   \n",
       "137804  0.000000e+00  ...                                        0   \n",
       "136452  0.000000e+00  ...                                        0   \n",
       "53702   9.378103e+08  ...                                        0   \n",
       "5142    2.663220e+08  ...                                        0   \n",
       "...              ...  ...                                      ...   \n",
       "39092   0.000000e+00  ...                                        0   \n",
       "49684   1.599960e+09  ...                                        0   \n",
       "46076   9.884602e+08  ...                                        0   \n",
       "139043  0.000000e+00  ...                                        0   \n",
       "145576  0.000000e+00  ...                                        0   \n",
       "\n",
       "        mqtt.conack.flags-0  mqtt.conack.flags-0.0  \\\n",
       "130973                    0                      1   \n",
       "137804                    0                      1   \n",
       "136452                    0                      1   \n",
       "53702                     0                      1   \n",
       "5142                      0                      1   \n",
       "...                     ...                    ...   \n",
       "39092                     0                      1   \n",
       "49684                     0                      1   \n",
       "46076                     0                      1   \n",
       "139043                    0                      1   \n",
       "145576                    0                      1   \n",
       "\n",
       "        mqtt.conack.flags-0x00000000  mqtt.protoname-0  mqtt.protoname-0.0  \\\n",
       "130973                             0                 0                   1   \n",
       "137804                             0                 0                   1   \n",
       "136452                             0                 0                   1   \n",
       "53702                              0                 0                   1   \n",
       "5142                               0                 0                   1   \n",
       "...                              ...               ...                 ...   \n",
       "39092                              0                 0                   1   \n",
       "49684                              0                 0                   1   \n",
       "46076                              0                 0                   1   \n",
       "139043                             0                 0                   1   \n",
       "145576                             0                 0                   1   \n",
       "\n",
       "        mqtt.protoname-MQTT  mqtt.topic-0  mqtt.topic-0.0  \\\n",
       "130973                    0             0               1   \n",
       "137804                    0             0               1   \n",
       "136452                    0             0               1   \n",
       "53702                     0             0               1   \n",
       "5142                      0             0               1   \n",
       "...                     ...           ...             ...   \n",
       "39092                     0             0               1   \n",
       "49684                     0             0               1   \n",
       "46076                     0             0               1   \n",
       "139043                    0             0               1   \n",
       "145576                    0             0               1   \n",
       "\n",
       "        mqtt.topic-Temperature_and_Humidity  \n",
       "130973                                    0  \n",
       "137804                                    0  \n",
       "136452                                    0  \n",
       "53702                                     0  \n",
       "5142                                      0  \n",
       "...                                     ...  \n",
       "39092                                     0  \n",
       "49684                                     0  \n",
       "46076                                     0  \n",
       "139043                                    0  \n",
       "145576                                    0  \n",
       "\n",
       "[152196 rows x 76 columns]"
      ]
     },
     "execution_count": 5,
     "metadata": {},
     "output_type": "execute_result"
    }
   ],
   "source": [
    "df"
   ]
  },
  {
   "cell_type": "code",
   "execution_count": 6,
   "metadata": {},
   "outputs": [],
   "source": [
    "df = df[~(df['Attack_type'] == 'DDoS_HTTP')]"
   ]
  },
  {
   "cell_type": "code",
   "execution_count": 7,
   "metadata": {},
   "outputs": [],
   "source": [
    "df = df[~(df['Attack_type'] == 'DDoS_TCP')]"
   ]
  },
  {
   "cell_type": "code",
   "execution_count": 8,
   "metadata": {},
   "outputs": [],
   "source": [
    "df = df[~(df['Attack_type'] == 'Fingerprinting')]\n",
    "df = df[~(df['Attack_type'] == 'Password')]\n",
    "df = df[~(df['Attack_type'] == 'Uploading')]"
   ]
  },
  {
   "cell_type": "code",
   "execution_count": 9,
   "metadata": {},
   "outputs": [
    {
     "data": {
      "text/plain": [
       "Normal                   24101\n",
       "DDoS_UDP                 14498\n",
       "DDoS_ICMP                13096\n",
       "SQL_injection            10282\n",
       "Vulnerability_scanner    10062\n",
       "Backdoor                  9865\n",
       "Ransomware                9689\n",
       "XSS                       9543\n",
       "Port_Scanning             8921\n",
       "MITM                       358\n",
       "Name: Attack_type, dtype: int64"
      ]
     },
     "execution_count": 9,
     "metadata": {},
     "output_type": "execute_result"
    }
   ],
   "source": [
    "df['Attack_type'].value_counts()"
   ]
  },
  {
   "cell_type": "code",
   "execution_count": 10,
   "metadata": {},
   "outputs": [
    {
     "name": "stdout",
     "output_type": "stream",
     "text": [
      "<class 'pandas.core.frame.DataFrame'>\n",
      "Int64Index: 110415 entries, 130973 to 145576\n",
      "Data columns (total 76 columns):\n",
      " #   Column                                                                             Non-Null Count   Dtype  \n",
      "---  ------                                                                             --------------   -----  \n",
      " 0   arp.opcode                                                                         110415 non-null  float64\n",
      " 1   arp.hw.size                                                                        110415 non-null  float64\n",
      " 2   icmp.checksum                                                                      110415 non-null  float64\n",
      " 3   icmp.seq_le                                                                        110415 non-null  float64\n",
      " 4   icmp.unused                                                                        110415 non-null  float64\n",
      " 5   http.content_length                                                                110415 non-null  float64\n",
      " 6   http.response                                                                      110415 non-null  float64\n",
      " 7   http.tls_port                                                                      110415 non-null  float64\n",
      " 8   tcp.ack                                                                            110415 non-null  float64\n",
      " 9   tcp.ack_raw                                                                        110415 non-null  float64\n",
      " 10  tcp.checksum                                                                       110415 non-null  float64\n",
      " 11  tcp.connection.fin                                                                 110415 non-null  float64\n",
      " 12  tcp.connection.rst                                                                 110415 non-null  float64\n",
      " 13  tcp.connection.syn                                                                 110415 non-null  float64\n",
      " 14  tcp.connection.synack                                                              110415 non-null  float64\n",
      " 15  tcp.flags                                                                          110415 non-null  float64\n",
      " 16  tcp.flags.ack                                                                      110415 non-null  float64\n",
      " 17  tcp.len                                                                            110415 non-null  float64\n",
      " 18  tcp.seq                                                                            110415 non-null  float64\n",
      " 19  udp.stream                                                                         110415 non-null  float64\n",
      " 20  udp.time_delta                                                                     110415 non-null  float64\n",
      " 21  dns.qry.name                                                                       110415 non-null  float64\n",
      " 22  dns.qry.qu                                                                         110415 non-null  float64\n",
      " 23  dns.qry.type                                                                       110415 non-null  float64\n",
      " 24  dns.retransmission                                                                 110415 non-null  float64\n",
      " 25  dns.retransmit_request                                                             110415 non-null  float64\n",
      " 26  dns.retransmit_request_in                                                          110415 non-null  float64\n",
      " 27  mqtt.conflag.cleansess                                                             110415 non-null  float64\n",
      " 28  mqtt.conflags                                                                      110415 non-null  float64\n",
      " 29  mqtt.hdrflags                                                                      110415 non-null  float64\n",
      " 30  mqtt.len                                                                           110415 non-null  float64\n",
      " 31  mqtt.msg_decoded_as                                                                110415 non-null  float64\n",
      " 32  mqtt.msgtype                                                                       110415 non-null  float64\n",
      " 33  mqtt.proto_len                                                                     110415 non-null  float64\n",
      " 34  mqtt.topic_len                                                                     110415 non-null  float64\n",
      " 35  mqtt.ver                                                                           110415 non-null  float64\n",
      " 36  mbtcp.len                                                                          110415 non-null  float64\n",
      " 37  mbtcp.trans_id                                                                     110415 non-null  float64\n",
      " 38  mbtcp.unit_id                                                                      110415 non-null  float64\n",
      " 39  Attack_label                                                                       110415 non-null  int64  \n",
      " 40  Attack_type                                                                        110415 non-null  object \n",
      " 41  http.request.method-0                                                              110415 non-null  uint8  \n",
      " 42  http.request.method-0.0                                                            110415 non-null  uint8  \n",
      " 43  http.request.method-GET                                                            110415 non-null  uint8  \n",
      " 44  http.request.method-OPTIONS                                                        110415 non-null  uint8  \n",
      " 45  http.request.method-POST                                                           110415 non-null  uint8  \n",
      " 46  http.request.method-TRACE                                                          110415 non-null  uint8  \n",
      " 47  http.referer-() { _; } >_[$($())] { echo 93e4r0-CVE-2014-6278: true; echo;echo; }  110415 non-null  uint8  \n",
      " 48  http.referer-0                                                                     110415 non-null  uint8  \n",
      " 49  http.referer-0.0                                                                   110415 non-null  uint8  \n",
      " 50  http.referer-127.0.0.1                                                             110415 non-null  uint8  \n",
      " 51  http.request.version--a HTTP/1.1                                                   110415 non-null  uint8  \n",
      " 52  http.request.version-/etc/passwd|?data=Download HTTP/1.1                           110415 non-null  uint8  \n",
      " 53  http.request.version-0                                                             110415 non-null  uint8  \n",
      " 54  http.request.version-0.0                                                           110415 non-null  uint8  \n",
      " 55  http.request.version-By Dr HTTP/1.1                                                110415 non-null  uint8  \n",
      " 56  http.request.version-HTTP/1.0                                                      110415 non-null  uint8  \n",
      " 57  http.request.version-HTTP/1.1                                                      110415 non-null  uint8  \n",
      " 58  http.request.version-Src=javascript:alert('Vulnerable')><Img Src=\\\" HTTP/1.1       110415 non-null  uint8  \n",
      " 59  dns.qry.name.len-0                                                                 110415 non-null  uint8  \n",
      " 60  dns.qry.name.len-0.0                                                               110415 non-null  uint8  \n",
      " 61  dns.qry.name.len-0.debian.pool.ntp.org                                             110415 non-null  uint8  \n",
      " 62  dns.qry.name.len-1.0                                                               110415 non-null  uint8  \n",
      " 63  dns.qry.name.len-1.debian.pool.ntp.org                                             110415 non-null  uint8  \n",
      " 64  dns.qry.name.len-2.debian.pool.ntp.org                                             110415 non-null  uint8  \n",
      " 65  dns.qry.name.len-3.debian.pool.ntp.org                                             110415 non-null  uint8  \n",
      " 66  dns.qry.name.len-_googlecast._tcp.local                                            110415 non-null  uint8  \n",
      " 67  mqtt.conack.flags-0                                                                110415 non-null  uint8  \n",
      " 68  mqtt.conack.flags-0.0                                                              110415 non-null  uint8  \n",
      " 69  mqtt.conack.flags-0x00000000                                                       110415 non-null  uint8  \n",
      " 70  mqtt.protoname-0                                                                   110415 non-null  uint8  \n",
      " 71  mqtt.protoname-0.0                                                                 110415 non-null  uint8  \n",
      " 72  mqtt.protoname-MQTT                                                                110415 non-null  uint8  \n",
      " 73  mqtt.topic-0                                                                       110415 non-null  uint8  \n",
      " 74  mqtt.topic-0.0                                                                     110415 non-null  uint8  \n",
      " 75  mqtt.topic-Temperature_and_Humidity                                                110415 non-null  uint8  \n",
      "dtypes: float64(39), int64(1), object(1), uint8(35)\n",
      "memory usage: 39.1+ MB\n"
     ]
    }
   ],
   "source": [
    "df.info()"
   ]
  },
  {
   "cell_type": "code",
   "execution_count": 11,
   "metadata": {},
   "outputs": [
    {
     "data": {
      "text/plain": [
       "['arp.opcode',\n",
       " 'arp.hw.size',\n",
       " 'icmp.checksum',\n",
       " 'icmp.seq_le',\n",
       " 'icmp.unused',\n",
       " 'http.content_length',\n",
       " 'http.response',\n",
       " 'http.tls_port',\n",
       " 'tcp.ack',\n",
       " 'tcp.ack_raw',\n",
       " 'tcp.checksum',\n",
       " 'tcp.connection.fin',\n",
       " 'tcp.connection.rst',\n",
       " 'tcp.connection.syn',\n",
       " 'tcp.connection.synack',\n",
       " 'tcp.flags',\n",
       " 'tcp.flags.ack',\n",
       " 'tcp.len',\n",
       " 'tcp.seq',\n",
       " 'udp.stream',\n",
       " 'udp.time_delta',\n",
       " 'dns.qry.name',\n",
       " 'dns.qry.qu',\n",
       " 'dns.qry.type',\n",
       " 'dns.retransmission',\n",
       " 'dns.retransmit_request',\n",
       " 'dns.retransmit_request_in',\n",
       " 'mqtt.conflag.cleansess',\n",
       " 'mqtt.conflags',\n",
       " 'mqtt.hdrflags',\n",
       " 'mqtt.len',\n",
       " 'mqtt.msg_decoded_as',\n",
       " 'mqtt.msgtype',\n",
       " 'mqtt.proto_len',\n",
       " 'mqtt.topic_len',\n",
       " 'mqtt.ver',\n",
       " 'mbtcp.len',\n",
       " 'mbtcp.trans_id',\n",
       " 'mbtcp.unit_id',\n",
       " 'Attack_label',\n",
       " 'http.request.method-0',\n",
       " 'http.request.method-0.0',\n",
       " 'http.request.method-GET',\n",
       " 'http.request.method-OPTIONS',\n",
       " 'http.request.method-POST',\n",
       " 'http.request.method-TRACE',\n",
       " 'http.referer-() { _; } >_[$($())] { echo 93e4r0-CVE-2014-6278: true; echo;echo; }',\n",
       " 'http.referer-0',\n",
       " 'http.referer-0.0',\n",
       " 'http.referer-127.0.0.1',\n",
       " 'http.request.version--a HTTP/1.1',\n",
       " 'http.request.version-/etc/passwd|?data=Download HTTP/1.1',\n",
       " 'http.request.version-0',\n",
       " 'http.request.version-0.0',\n",
       " 'http.request.version-By Dr HTTP/1.1',\n",
       " 'http.request.version-HTTP/1.0',\n",
       " 'http.request.version-HTTP/1.1',\n",
       " 'http.request.version-Src=javascript:alert(\\'Vulnerable\\')><Img Src=\\\\\" HTTP/1.1',\n",
       " 'dns.qry.name.len-0',\n",
       " 'dns.qry.name.len-0.0',\n",
       " 'dns.qry.name.len-0.debian.pool.ntp.org',\n",
       " 'dns.qry.name.len-1.0',\n",
       " 'dns.qry.name.len-1.debian.pool.ntp.org',\n",
       " 'dns.qry.name.len-2.debian.pool.ntp.org',\n",
       " 'dns.qry.name.len-3.debian.pool.ntp.org',\n",
       " 'dns.qry.name.len-_googlecast._tcp.local',\n",
       " 'mqtt.conack.flags-0',\n",
       " 'mqtt.conack.flags-0.0',\n",
       " 'mqtt.conack.flags-0x00000000',\n",
       " 'mqtt.protoname-0',\n",
       " 'mqtt.protoname-0.0',\n",
       " 'mqtt.protoname-MQTT',\n",
       " 'mqtt.topic-0',\n",
       " 'mqtt.topic-0.0',\n",
       " 'mqtt.topic-Temperature_and_Humidity']"
      ]
     },
     "execution_count": 11,
     "metadata": {},
     "output_type": "execute_result"
    }
   ],
   "source": [
    "feat_cols = list(df.columns)\n",
    "label_col = \"Attack_type\"\n",
    "\n",
    "feat_cols.remove(label_col)\n",
    "feat_cols"
   ]
  },
  {
   "cell_type": "code",
   "execution_count": 12,
   "metadata": {},
   "outputs": [
    {
     "data": {
      "text/plain": [
       "75"
      ]
     },
     "execution_count": 12,
     "metadata": {},
     "output_type": "execute_result"
    }
   ],
   "source": [
    "len(feat_cols)"
   ]
  },
  {
   "cell_type": "code",
   "execution_count": 13,
   "metadata": {},
   "outputs": [
    {
     "data": {
      "text/plain": [
       "[]"
      ]
     },
     "execution_count": 13,
     "metadata": {},
     "output_type": "execute_result"
    }
   ],
   "source": [
    "empty_cols = [col for col in df.columns if df[col].isnull().all()]\n",
    "empty_cols"
   ]
  },
  {
   "cell_type": "code",
   "execution_count": 14,
   "metadata": {},
   "outputs": [],
   "source": [
    "from matplotlib import pyplot as plt\n",
    "import seaborn as sns"
   ]
  },
  {
   "cell_type": "code",
   "execution_count": 15,
   "metadata": {},
   "outputs": [],
   "source": [
    "skip_list = [\"icmp.unused\", \"http.tls_port\", \"dns.qry.type\", \"mqtt.msg_decoded_as\"]"
   ]
  },
  {
   "cell_type": "code",
   "execution_count": 16,
   "metadata": {},
   "outputs": [
    {
     "data": {
      "text/plain": [
       "0.0    110415\n",
       "Name: mqtt.msg_decoded_as, dtype: int64"
      ]
     },
     "execution_count": 16,
     "metadata": {},
     "output_type": "execute_result"
    }
   ],
   "source": [
    "df[skip_list[3]].value_counts()"
   ]
  },
  {
   "cell_type": "code",
   "execution_count": 17,
   "metadata": {},
   "outputs": [
    {
     "data": {
      "text/plain": [
       "['arp.opcode',\n",
       " 'arp.hw.size',\n",
       " 'icmp.checksum',\n",
       " 'icmp.seq_le',\n",
       " 'http.content_length',\n",
       " 'http.response',\n",
       " 'tcp.ack',\n",
       " 'tcp.ack_raw',\n",
       " 'tcp.checksum',\n",
       " 'tcp.connection.fin',\n",
       " 'tcp.connection.rst',\n",
       " 'tcp.connection.syn',\n",
       " 'tcp.connection.synack',\n",
       " 'tcp.flags',\n",
       " 'tcp.flags.ack',\n",
       " 'tcp.len',\n",
       " 'tcp.seq',\n",
       " 'udp.stream',\n",
       " 'udp.time_delta',\n",
       " 'dns.qry.name',\n",
       " 'dns.qry.qu',\n",
       " 'dns.retransmission',\n",
       " 'dns.retransmit_request',\n",
       " 'dns.retransmit_request_in',\n",
       " 'mqtt.conflag.cleansess',\n",
       " 'mqtt.conflags',\n",
       " 'mqtt.hdrflags',\n",
       " 'mqtt.len',\n",
       " 'mqtt.msgtype',\n",
       " 'mqtt.proto_len',\n",
       " 'mqtt.topic_len',\n",
       " 'mqtt.ver',\n",
       " 'mbtcp.len',\n",
       " 'mbtcp.trans_id',\n",
       " 'mbtcp.unit_id',\n",
       " 'Attack_label',\n",
       " 'http.request.method-0',\n",
       " 'http.request.method-0.0',\n",
       " 'http.request.method-GET',\n",
       " 'http.request.method-OPTIONS',\n",
       " 'http.request.method-POST',\n",
       " 'http.request.method-TRACE',\n",
       " 'http.referer-() { _; } >_[$($())] { echo 93e4r0-CVE-2014-6278: true; echo;echo; }',\n",
       " 'http.referer-0',\n",
       " 'http.referer-0.0',\n",
       " 'http.referer-127.0.0.1',\n",
       " 'http.request.version--a HTTP/1.1',\n",
       " 'http.request.version-/etc/passwd|?data=Download HTTP/1.1',\n",
       " 'http.request.version-0',\n",
       " 'http.request.version-0.0',\n",
       " 'http.request.version-By Dr HTTP/1.1',\n",
       " 'http.request.version-HTTP/1.0',\n",
       " 'http.request.version-HTTP/1.1',\n",
       " 'http.request.version-Src=javascript:alert(\\'Vulnerable\\')><Img Src=\\\\\" HTTP/1.1',\n",
       " 'dns.qry.name.len-0',\n",
       " 'dns.qry.name.len-0.0',\n",
       " 'dns.qry.name.len-0.debian.pool.ntp.org',\n",
       " 'dns.qry.name.len-1.0',\n",
       " 'dns.qry.name.len-1.debian.pool.ntp.org',\n",
       " 'dns.qry.name.len-2.debian.pool.ntp.org',\n",
       " 'dns.qry.name.len-3.debian.pool.ntp.org',\n",
       " 'dns.qry.name.len-_googlecast._tcp.local',\n",
       " 'mqtt.conack.flags-0',\n",
       " 'mqtt.conack.flags-0.0',\n",
       " 'mqtt.conack.flags-0x00000000',\n",
       " 'mqtt.protoname-0',\n",
       " 'mqtt.protoname-0.0',\n",
       " 'mqtt.protoname-MQTT',\n",
       " 'mqtt.topic-0',\n",
       " 'mqtt.topic-0.0',\n",
       " 'mqtt.topic-Temperature_and_Humidity']"
      ]
     },
     "execution_count": 17,
     "metadata": {},
     "output_type": "execute_result"
    }
   ],
   "source": [
    "df.drop(skip_list, axis=1, inplace=True)\n",
    "feat_cols = list(df.columns)\n",
    "feat_cols.remove(label_col)\n",
    "feat_cols"
   ]
  },
  {
   "cell_type": "code",
   "execution_count": 18,
   "metadata": {},
   "outputs": [],
   "source": [
    "X = df.drop([label_col], axis=1)\n",
    "y = df[label_col]\n",
    "\n",
    "del df"
   ]
  },
  {
   "cell_type": "code",
   "execution_count": 19,
   "metadata": {},
   "outputs": [],
   "source": [
    "from sklearn.model_selection import train_test_split\n",
    "\n",
    "X_train, X_test, y_train, y_test = train_test_split(X, y, test_size=0.2, random_state=1, stratify=y)\n",
    "\n",
    "del X\n",
    "del y"
   ]
  },
  {
   "cell_type": "code",
   "execution_count": 20,
   "metadata": {},
   "outputs": [],
   "source": [
    "from sklearn.preprocessing import LabelEncoder\n",
    "\n",
    "\n",
    "label_encoder = LabelEncoder()\n",
    "y_train =  label_encoder.fit_transform(y_train)\n",
    "y_test = label_encoder.transform(y_test)"
   ]
  },
  {
   "cell_type": "code",
   "execution_count": 21,
   "metadata": {},
   "outputs": [
    {
     "data": {
      "text/plain": [
       "array(['Backdoor', 'DDoS_ICMP', 'DDoS_UDP', 'MITM', 'Normal',\n",
       "       'Port_Scanning', 'Ransomware', 'SQL_injection',\n",
       "       'Vulnerability_scanner', 'XSS'], dtype=object)"
      ]
     },
     "execution_count": 21,
     "metadata": {},
     "output_type": "execute_result"
    }
   ],
   "source": [
    "label_encoder.classes_"
   ]
  },
  {
   "cell_type": "code",
   "execution_count": 22,
   "metadata": {},
   "outputs": [],
   "source": [
    "from sklearn.preprocessing import MinMaxScaler\n",
    "\n",
    "min_max_scaler = MinMaxScaler()\n",
    "X_train =  min_max_scaler.fit_transform(X_train)\n",
    "X_test = min_max_scaler.transform(X_test)"
   ]
  },
  {
   "cell_type": "code",
   "execution_count": 23,
   "metadata": {},
   "outputs": [],
   "source": [
    "from tensorflow import keras\n",
    "from tensorflow.keras import layers\n",
    "model = keras.Sequential([\n",
    "    keras.layers.Dense(256, input_shape=(71,), activation='relu'),\n",
    "    keras.layers.Dense(128, activation='relu'),\n",
    "    keras.layers.Dense(64,activation='relu'),\n",
    "    keras.layers.Dense(32, activation='relu'),\n",
    "    keras.layers.Dense(10, activation='softmax')\n",
    "])"
   ]
  },
  {
   "cell_type": "code",
   "execution_count": 24,
   "metadata": {},
   "outputs": [],
   "source": [
    "model.save_weights('./checkpoints/') # to save weights in the middle of a session"
   ]
  },
  {
   "cell_type": "code",
   "execution_count": 25,
   "metadata": {},
   "outputs": [],
   "source": [
    "# Compiling the model\n",
    "model.compile(optimizer='adam',\n",
    "              loss=keras.losses.SparseCategoricalCrossentropy(),\n",
    "              metrics=['accuracy'])"
   ]
  },
  {
   "cell_type": "code",
   "execution_count": 26,
   "metadata": {},
   "outputs": [
    {
     "data": {
      "text/plain": [
       "array([0, 1, 2, 3, 4, 5, 6, 7, 8, 9])"
      ]
     },
     "execution_count": 26,
     "metadata": {},
     "output_type": "execute_result"
    }
   ],
   "source": [
    "np.unique(y_train)"
   ]
  },
  {
   "cell_type": "code",
   "execution_count": 28,
   "metadata": {},
   "outputs": [
    {
     "name": "stdout",
     "output_type": "stream",
     "text": [
      "Epoch 1/50\n",
      "346/346 [==============================] - 1s 3ms/step - loss: 0.0996 - accuracy: 0.9653\n",
      "Epoch 2/50\n",
      "346/346 [==============================] - 1s 3ms/step - loss: 0.1078 - accuracy: 0.9624\n",
      "Epoch 3/50\n",
      "346/346 [==============================] - 1s 3ms/step - loss: 0.1013 - accuracy: 0.9651\n",
      "Epoch 4/50\n",
      "346/346 [==============================] - 1s 3ms/step - loss: 0.0980 - accuracy: 0.9653\n",
      "Epoch 5/50\n",
      "346/346 [==============================] - 1s 3ms/step - loss: 0.0976 - accuracy: 0.9656\n",
      "Epoch 6/50\n",
      "346/346 [==============================] - 1s 3ms/step - loss: 0.1101 - accuracy: 0.9618\n",
      "Epoch 7/50\n",
      "346/346 [==============================] - 1s 3ms/step - loss: 0.0978 - accuracy: 0.9657\n",
      "Epoch 8/50\n",
      "346/346 [==============================] - 1s 3ms/step - loss: 0.0946 - accuracy: 0.9662\n",
      "Epoch 9/50\n",
      "346/346 [==============================] - 2s 5ms/step - loss: 0.0948 - accuracy: 0.9662\n",
      "Epoch 10/50\n",
      "346/346 [==============================] - 1s 4ms/step - loss: 0.0928 - accuracy: 0.9665\n",
      "Epoch 11/50\n",
      "346/346 [==============================] - 1s 3ms/step - loss: 0.0969 - accuracy: 0.9650\n",
      "Epoch 12/50\n",
      "346/346 [==============================] - 1s 3ms/step - loss: 0.0904 - accuracy: 0.9677\n",
      "Epoch 13/50\n",
      "346/346 [==============================] - 1s 3ms/step - loss: 0.1033 - accuracy: 0.9639\n",
      "Epoch 14/50\n",
      "346/346 [==============================] - 1s 4ms/step - loss: 0.0916 - accuracy: 0.9679\n",
      "Epoch 15/50\n",
      "346/346 [==============================] - 1s 3ms/step - loss: 0.0880 - accuracy: 0.9684\n",
      "Epoch 16/50\n",
      "346/346 [==============================] - 1s 3ms/step - loss: 0.0889 - accuracy: 0.9680\n",
      "Epoch 17/50\n",
      "346/346 [==============================] - 1s 3ms/step - loss: 0.0888 - accuracy: 0.9679\n",
      "Epoch 18/50\n",
      "346/346 [==============================] - 1s 3ms/step - loss: 0.1497 - accuracy: 0.9451\n",
      "Epoch 19/50\n",
      "346/346 [==============================] - 1s 3ms/step - loss: 0.0917 - accuracy: 0.9683\n",
      "Epoch 20/50\n",
      "346/346 [==============================] - 1s 3ms/step - loss: 0.0890 - accuracy: 0.9687\n",
      "Epoch 21/50\n",
      "346/346 [==============================] - 1s 3ms/step - loss: 0.0891 - accuracy: 0.9686\n",
      "Epoch 22/50\n",
      "346/346 [==============================] - 1s 3ms/step - loss: 0.0930 - accuracy: 0.9675\n",
      "Epoch 23/50\n",
      "346/346 [==============================] - 1s 3ms/step - loss: 0.0875 - accuracy: 0.9688\n",
      "Epoch 24/50\n",
      "346/346 [==============================] - 1s 3ms/step - loss: 0.0850 - accuracy: 0.9699\n",
      "Epoch 25/50\n",
      "346/346 [==============================] - 1s 3ms/step - loss: 0.0870 - accuracy: 0.9689\n",
      "Epoch 26/50\n",
      "346/346 [==============================] - 1s 3ms/step - loss: 0.0878 - accuracy: 0.9683\n",
      "Epoch 27/50\n",
      "346/346 [==============================] - 1s 3ms/step - loss: 0.0861 - accuracy: 0.9691\n",
      "Epoch 28/50\n",
      "346/346 [==============================] - 1s 3ms/step - loss: 0.0856 - accuracy: 0.9694: 0s - loss: 0.0854 - ac\n",
      "Epoch 29/50\n",
      "346/346 [==============================] - 1s 3ms/step - loss: 0.1063 - accuracy: 0.9640\n",
      "Epoch 30/50\n",
      "346/346 [==============================] - 1s 3ms/step - loss: 0.0865 - accuracy: 0.9689\n",
      "Epoch 31/50\n",
      "346/346 [==============================] - 1s 3ms/step - loss: 0.0849 - accuracy: 0.9697\n",
      "Epoch 32/50\n",
      "346/346 [==============================] - 1s 3ms/step - loss: 0.1019 - accuracy: 0.9629\n",
      "Epoch 33/50\n",
      "346/346 [==============================] - 1s 3ms/step - loss: 0.0872 - accuracy: 0.9691\n",
      "Epoch 34/50\n",
      "346/346 [==============================] - 1s 3ms/step - loss: 0.0854 - accuracy: 0.9695\n",
      "Epoch 35/50\n",
      "346/346 [==============================] - 1s 3ms/step - loss: 0.0892 - accuracy: 0.9687\n",
      "Epoch 36/50\n",
      "346/346 [==============================] - 1s 3ms/step - loss: 0.0877 - accuracy: 0.9685\n",
      "Epoch 37/50\n",
      "346/346 [==============================] - 1s 3ms/step - loss: 0.0841 - accuracy: 0.9703\n",
      "Epoch 38/50\n",
      "346/346 [==============================] - 1s 3ms/step - loss: 0.0850 - accuracy: 0.9695\n",
      "Epoch 39/50\n",
      "346/346 [==============================] - 1s 3ms/step - loss: 0.0843 - accuracy: 0.9700\n",
      "Epoch 40/50\n",
      "346/346 [==============================] - 1s 3ms/step - loss: 0.0906 - accuracy: 0.9677\n",
      "Epoch 41/50\n",
      "346/346 [==============================] - 1s 3ms/step - loss: 0.0848 - accuracy: 0.9696\n",
      "Epoch 42/50\n",
      "346/346 [==============================] - 1s 3ms/step - loss: 0.0847 - accuracy: 0.9700\n",
      "Epoch 43/50\n",
      "346/346 [==============================] - 1s 3ms/step - loss: 0.0846 - accuracy: 0.9696\n",
      "Epoch 44/50\n",
      "346/346 [==============================] - 1s 3ms/step - loss: 0.0841 - accuracy: 0.9699\n",
      "Epoch 45/50\n",
      "346/346 [==============================] - 1s 3ms/step - loss: 0.0840 - accuracy: 0.9699\n",
      "Epoch 46/50\n",
      "346/346 [==============================] - 1s 3ms/step - loss: 0.0997 - accuracy: 0.9657\n",
      "Epoch 47/50\n",
      "346/346 [==============================] - 1s 3ms/step - loss: 0.0875 - accuracy: 0.9687\n",
      "Epoch 48/50\n",
      "346/346 [==============================] - 1s 3ms/step - loss: 0.0838 - accuracy: 0.9703\n",
      "Epoch 49/50\n",
      "346/346 [==============================] - 1s 3ms/step - loss: 0.0865 - accuracy: 0.9691\n",
      "Epoch 50/50\n",
      "346/346 [==============================] - 1s 3ms/step - loss: 0.0863 - accuracy: 0.9688\n"
     ]
    },
    {
     "data": {
      "text/plain": [
       "<keras.callbacks.History at 0x1e014889220>"
      ]
     },
     "execution_count": 28,
     "metadata": {},
     "output_type": "execute_result"
    }
   ],
   "source": [
    "# fitting the model\n",
    "model.fit(X_train, y_train, epochs=50, batch_size=256)"
   ]
  },
  {
   "cell_type": "code",
   "execution_count": 29,
   "metadata": {},
   "outputs": [
    {
     "name": "stdout",
     "output_type": "stream",
     "text": [
      "INFO:tensorflow:Assets written to: Weights/Model_1\\assets\n"
     ]
    }
   ],
   "source": [
    "model.save('Weights/Model_1')  # to save weights as an entire weights"
   ]
  },
  {
   "cell_type": "code",
   "execution_count": 30,
   "metadata": {},
   "outputs": [
    {
     "name": "stdout",
     "output_type": "stream",
     "text": [
      "87/87 [==============================] - 0s 2ms/step - loss: 0.0901 - accuracy: 0.9683\n"
     ]
    },
    {
     "data": {
      "text/plain": [
       "[0.09005013853311539, 0.9683467149734497]"
      ]
     },
     "execution_count": 30,
     "metadata": {},
     "output_type": "execute_result"
    }
   ],
   "source": [
    "model.evaluate(X_test, y_test,256)"
   ]
  },
  {
   "cell_type": "code",
   "execution_count": 31,
   "metadata": {},
   "outputs": [
    {
     "data": {
      "text/plain": [
       "array([4, 9, 4, ..., 0, 2, 8], dtype=int64)"
      ]
     },
     "execution_count": 31,
     "metadata": {},
     "output_type": "execute_result"
    }
   ],
   "source": [
    "y_pred = model.predict(X_test,256)\n",
    "y_pred = np.argmax(y_pred,axis = 1)\n",
    "y_pred"
   ]
  },
  {
   "cell_type": "code",
   "execution_count": 33,
   "metadata": {},
   "outputs": [
    {
     "data": {
      "text/plain": [
       "0.96834669202554"
      ]
     },
     "execution_count": 33,
     "metadata": {},
     "output_type": "execute_result"
    }
   ],
   "source": [
    "from sklearn.metrics import accuracy_score\n",
    "accuracy_score(y_test, y_pred)"
   ]
  },
  {
   "cell_type": "code",
   "execution_count": 35,
   "metadata": {},
   "outputs": [
    {
     "name": "stdout",
     "output_type": "stream",
     "text": [
      "[[1829    0    0    0    0   46   98    0    0    0]\n",
      " [   0 2619    0    0    0    0    0    0    0    0]\n",
      " [   0    0 2900    0    0    0    0    0    0    0]\n",
      " [   0    0    0   72    0    0    0    0    0    0]\n",
      " [   0    0    0    0 4820    0    0    0    0    0]\n",
      " [   0    0    0    0    0 1781    3    0    0    0]\n",
      " [   2    0    0    0    0   64 1872    0    0    0]\n",
      " [   0    0    0    0    0    0    0 2056    0    0]\n",
      " [   0    0    0    0    0    0    0    0 1695  317]\n",
      " [   0    0    0    0    0    0    0    0  169 1740]]\n"
     ]
    }
   ],
   "source": [
    "from sklearn.metrics import confusion_matrix  \n",
    "cm= confusion_matrix(y_test, y_pred)  \n",
    "print(cm)"
   ]
  },
  {
   "cell_type": "code",
   "execution_count": 36,
   "metadata": {},
   "outputs": [
    {
     "name": "stdout",
     "output_type": "stream",
     "text": [
      "Confusion Matrix\n"
     ]
    },
    {
     "data": {
      "text/plain": [
       "<matplotlib.axes._subplots.AxesSubplot at 0x1e014a29910>"
      ]
     },
     "execution_count": 36,
     "metadata": {},
     "output_type": "execute_result"
    },
    {
     "data": {
      "image/png": "[encoded data removed]",
      "text/plain": [
       "<Figure size 720x504 with 2 Axes>"
      ]
     },
     "metadata": {
      "needs_background": "light"
     },
     "output_type": "display_data"
    }
   ],
   "source": [
    "print(\"Confusion Matrix\")\n",
    "cm = confusion_matrix(y_test, y_pred)\n",
    "cm = cm.astype('float') / cm.sum(axis=1)[:, np.newaxis]\n",
    "df_cm = pd.DataFrame(cm, index = [i for i in label_encoder.classes_],\n",
    "                    columns = [i for i in label_encoder.classes_])\n",
    "plt.figure(figsize = (10,7))\n",
    "sns.heatmap(df_cm, annot=True)"
   ]
  },
  {
   "cell_type": "code",
   "execution_count": 45,
   "metadata": {},
   "outputs": [
    {
     "data": {
      "text/plain": [
       "0.9691278503425989"
      ]
     },
     "execution_count": 45,
     "metadata": {},
     "output_type": "execute_result"
    }
   ],
   "source": [
    "from sklearn.metrics import precision_score\n",
    "precision_score(y_test,y_pred,average='weighted')"
   ]
  },
  {
   "cell_type": "code",
   "execution_count": 46,
   "metadata": {},
   "outputs": [
    {
     "data": {
      "text/plain": [
       "0.96834669202554"
      ]
     },
     "execution_count": 46,
     "metadata": {},
     "output_type": "execute_result"
    }
   ],
   "source": [
    "from sklearn.metrics import recall_score\n",
    "recall_score(y_test,y_pred, average='weighted')"
   ]
  },
  {
   "cell_type": "code",
   "execution_count": 47,
   "metadata": {},
   "outputs": [
    {
     "data": {
      "text/plain": [
       "0.9683220893884725"
      ]
     },
     "execution_count": 47,
     "metadata": {},
     "output_type": "execute_result"
    }
   ],
   "source": [
    "from sklearn.metrics import f1_score\n",
    "f1_score(y_test,y_pred, average='weighted')"
   ]
  },
  {
   "cell_type": "code",
   "execution_count": null,
   "metadata": {},
   "outputs": [],
   "source": []
  }
 ],
 "metadata": {
  "kernelspec": {
   "display_name": "base",
   "language": "python",
   "name": "python3"
  },
  "language_info": {
   "codemirror_mode": {
    "name": "ipython",
    "version": 3
   },
   "file_extension": ".py",
   "mimetype": "text/x-python",
   "name": "python",
   "nbconvert_exporter": "python",
   "pygments_lexer": "ipython3",
   "version": "3.8.3"
  },
  "orig_nbformat": 4,
  "vscode": {
   "interpreter": {
    "hash": "160252743b49abadfe727bdeef76fb45e94aaf183237b4458aa12f771e45c7f3"
   }
  }
 },
 "nbformat": 4,
 "nbformat_minor": 2
}
